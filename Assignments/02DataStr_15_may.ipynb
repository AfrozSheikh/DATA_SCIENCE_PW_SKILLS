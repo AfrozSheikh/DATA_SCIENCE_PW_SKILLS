{
 "cells": [
  {
   "attachments": {},
   "cell_type": "markdown",
   "metadata": {},
   "source": [
    "# Q1. How do you comment code in Python? What are the different types of comments?\n",
    "\n",
    "Ans  In Python there are two type of comment \n",
    "1) single line comment which use to comment the single line \n",
    "the synatax is # \n",
    "fork example \n",
    "#this is the single line comment \n",
    "2) multiline comment this is use for multi line comminting or for explaing the code \n",
    "sysntax is \"\"\"   this is multiline comment  \"\"dADA \"\""
   ]
  },
  {
   "cell_type": "code",
   "execution_count": 16,
   "metadata": {},
   "outputs": [
    {
     "data": {
      "text/plain": [
       "\" multiline comment \\nis this\\n'\""
      ]
     },
     "execution_count": 16,
     "metadata": {},
     "output_type": "execute_result"
    }
   ],
   "source": [
    "\"\"\" multiline comment \n",
    "is this\n",
    "'\"\"\"\n",
    "\n",
    "# single line comment"
   ]
  },
  {
   "attachments": {},
   "cell_type": "markdown",
   "metadata": {},
   "source": [
    "# Q2. What are variables in Python? How do you declare and assign values to variables?\n",
    "\n",
    "Ans -> In Python, variables are used to store and manipulate data. A variable is essentially a name that represents a value in memory. It allows you to store data of various types such as numbers, strings, lists, or objects.\n",
    "\n",
    "To declare a variable in Python, you simply need to choose a name for it and assign a value to it using the assignment operator (=). Here's an example of declaring a variable called `age` and assigning it the value 25:\n",
    "\n",
    "```python\n",
    "age = 25\n",
    "```\n",
    "\n",
    "In this case, `age` is the variable name, and 25 is the value assigned to it. Python automatically determines the type of the variable based on the value assigned to it.\n",
    "\n",
    "You can also declare multiple variables in a single line by separating them with commas. For example:\n",
    "\n",
    "```python\n",
    "name = \"John\"\n",
    "age = 30\n",
    "```\n",
    "\n",
    "Here, two variables `name` and `age` are declared and assigned different values.\n",
    "\n",
    "Variables can be assigned new values as needed, and the type of the variable can change based on the new value assigned. For instance:\n",
    "\n",
    "```python\n",
    "age = 25\n",
    "print(age)  # Output: 25\n",
    "\n",
    "age = 30  # Assigning a new value\n",
    "print(age)  # Output: 30\n",
    "```\n",
    "\n",
    "In this example, the variable `age` is initially assigned the value 25. Later, it is reassigned the value 30, and when you print its value, you get the updated value.\n",
    "\n",
    "It's worth mentioning that Python is a dynamically typed language, which means you don't need to explicitly specify the type of a variable. Python infers the type based on the assigned value."
   ]
  },
  {
   "attachments": {},
   "cell_type": "markdown",
   "metadata": {},
   "source": [
    "# Q3 How do you convert one data type to another in Python?\n",
    "In Python, you can convert one data type to another using type conversion functions or constructors. Here are some common ways to convert data types:\n",
    "\n",
    "1. Integer to Float or String:\n",
    "   ```python\n",
    "   num_int = 10\n",
    "   num_float = float(num_int)  # Converts integer to float\n",
    "   num_str = str(num_int)     # Converts integer to string\n",
    "   ```\n",
    "\n",
    "2. Float to Integer or String:\n",
    "   ```python\n",
    "   num_float = 10.5\n",
    "   num_int = int(num_float)    # Converts float to integer (truncates decimal part)\n",
    "   num_str = str(num_float)    # Converts float to string\n",
    "   ```\n",
    "\n",
    "3. String to Integer or Float:\n",
    "   ```python\n",
    "   num_str = \"10\"\n",
    "   num_int = int(num_str)      # Converts string to integer\n",
    "   num_float = float(num_str)  # Converts string to float\n",
    "   ```\n",
    "\n",
    "4. List or Tuple to String:\n",
    "   ```python\n",
    "   my_list = [1, 2, 3]\n",
    "   my_tuple = (4, 5, 6)\n",
    "   list_str = str(my_list)    # Converts list to string\n",
    "   tuple_str = str(my_tuple)  # Converts tuple to string\n",
    "   ```\n",
    "\n",
    "5. String to List:\n",
    "   ```python\n",
    "   list_str = \"[1, 2, 3]\"\n",
    "   my_list = list(eval(list_str))  # Converts string to list using eval() function\n",
    "   ```\n",
    "\n",
    "6. String to Dictionary:\n",
    "   ```python\n",
    "   dict_str = '{\"key\": \"value\"}'\n",
    "   my_dict = eval(dict_str)  # Converts string to dictionary using eval() function\n",
    "   ```\n",
    "\n",
    "Note: When converting from a string to another data type, be cautious about the format and validity of the string to avoid potential errors. The `eval()` function used in examples 5 and 6 can execute arbitrary code, so it should be used with caution, especially when dealing with untrusted input.\n",
    "\n",
    "These are just some examples of common type conversions in Python. The availability and appropriateness of conversion methods depend on the specific data types you are working with.\n"
   ]
  },
  {
   "attachments": {},
   "cell_type": "markdown",
   "metadata": {},
   "source": [
    "# Q4. How do you write and execute a Python script from the command line?\n",
    "To write and execute a Python script from the command line, follow these steps:\n",
    "\n",
    "1. Open a text editor (e.g., Notepad, Sublime Text, Visual Studio Code) and create a new file.\n",
    "\n",
    "2. Write your Python code in the text editor. For example, let's create a simple script that prints \"Hello, World!\":\n",
    "\n",
    "   ```python\n",
    "   print(\"Hello, World!\")\n",
    "   ```\n",
    "\n",
    "3. Save the file with a .py extension. For example, save it as `hello.py`.\n",
    "\n",
    "4. Open the command line or terminal on your computer.\n",
    "\n",
    "5. Navigate to the directory where the Python script is saved. You can use the `cd` command to change directories. For example, if the script is saved on the desktop:\n",
    "\n",
    "   ```bash\n",
    "   cd Desktop\n",
    "   ```\n",
    "\n",
    "6. Once you are in the correct directory, you can execute the Python script using the `python` command followed by the name of the script file:\n",
    "\n",
    "   ```bash\n",
    "   python hello.py\n",
    "   ```\n",
    "\n",
    "   This will run the Python script, and the output will be displayed in the command line:\n",
    "\n",
    "   ```\n",
    "   Hello, World!\n",
    "   ```\n",
    "\n",
    "Note: Make sure you have Python installed on your computer and the Python executable is added to your system's PATH environment variable. Otherwise, the `python` command might not be recognized."
   ]
  },
  {
   "attachments": {},
   "cell_type": "markdown",
   "metadata": {},
   "source": [
    "# Q5. Given a list my_list = [1, 2, 3, 4, 5], write the code to slice the list and obtain the sub-list [2, 3]."
   ]
  },
  {
   "cell_type": "code",
   "execution_count": 17,
   "metadata": {},
   "outputs": [
    {
     "data": {
      "text/plain": [
       "[2, 3]"
      ]
     },
     "execution_count": 17,
     "metadata": {},
     "output_type": "execute_result"
    }
   ],
   "source": [
    "mylist = [1,2,3,4,5]\n",
    "li = mylist[1:3]\n",
    "li"
   ]
  },
  {
   "attachments": {},
   "cell_type": "markdown",
   "metadata": {},
   "source": [
    "## Q6. What is a complex number in mathematics, and how is it represented in Python?"
   ]
  },
  {
   "attachments": {},
   "cell_type": "markdown",
   "metadata": {},
   "source": [
    "# Q7. What is the correct way to declare a variable named age and assign the value 25 to it?\n",
    "\n",
    "The correct way to declare a variable named `age` and assign the value 25 to it in Python is as follows:\n",
    "\n",
    "```python\n",
    "age = 25\n",
    "```\n",
    "\n",
    "In Python, variable declaration does not require any specific keyword. Simply using the variable name (`age` in this case) followed by the assignment operator (`=`) allows you to declare and assign a value to the variable. In the above code snippet, the value 25 is assigned to the variable `age`.\n",
    "\n",
    "After executing this code, the variable `age` will hold the value 25, which can be used later in your program."
   ]
  },
  {
   "attachments": {},
   "cell_type": "markdown",
   "metadata": {},
   "source": [
    "# Q8. Declare a variable named price and assign the value 9.99 to it. What data type does this variable belong to?\n",
    "\n",
    "a = 9.99\n",
    "data type = float"
   ]
  },
  {
   "attachments": {},
   "cell_type": "markdown",
   "metadata": {},
   "source": [
    "# Q9. Create a variable named name and assign your full name to it as a string. How would you print the value of this variable?"
   ]
  },
  {
   "cell_type": "code",
   "execution_count": 18,
   "metadata": {},
   "outputs": [
    {
     "name": "stdout",
     "output_type": "stream",
     "text": [
      "Om Ambadas Bade \n"
     ]
    }
   ],
   "source": [
    "str = \"Om Ambadas Bade \"\n",
    "print (str)"
   ]
  },
  {
   "attachments": {},
   "cell_type": "markdown",
   "metadata": {},
   "source": [
    "# Q10. Given the string \"Hello, World!\", extract the substring \"World\".\n",
    "To extract the substring \"World\" from the string \"Hello, World!\", you can use string slicing in Python. Here's an example code snippet that demonstrates how to do it:\n",
    "\n",
    "```python\n",
    "my_string = \"Hello, World!\"\n",
    "substring = my_string[7:12]\n",
    "print(substring)\n",
    "```\n",
    "\n",
    "In Python, string indices start from 0, so to extract the substring \"World\", we use the slice `my_string[7:12]`. The starting index 7 corresponds to the letter 'W' in the original string, and the ending index 12 is one position beyond the last letter 'd' of the desired substring.\n",
    "\n",
    "When you run this code, it will output:\n",
    "\n",
    "```\n",
    "World\n",
    "```\n",
    "\n",
    "Thus, the variable `substring` will store the extracted substring \"World\"."
   ]
  },
  {
   "cell_type": "code",
   "execution_count": 19,
   "metadata": {},
   "outputs": [
    {
     "name": "stdout",
     "output_type": "stream",
     "text": [
      "World\n"
     ]
    }
   ],
   "source": [
    "my_string = \"Hello, World!\"\n",
    "substring = my_string[7:12]\n",
    "print(substring)\n"
   ]
  },
  {
   "attachments": {},
   "cell_type": "markdown",
   "metadata": {},
   "source": [
    "# Q11. Create a variable named \"is_student\" and assign it a boolean value indicating whether you are currently a student or not.\n",
    "ans-> To create a variable named \"is_student\" and assign it a boolean value indicating whether you are currently a student or not, you can use the following code:\n",
    "\n",
    "```python\n",
    "is_student = True\n",
    "```\n",
    "\n",
    "In this example, the variable \"is_student\" is assigned the boolean value `True`, which indicates that you are currently a student.\n",
    "\n",
    "If you are not a student, you can assign the value `False` to the variable:\n",
    "\n",
    "```python\n",
    "is_student = False\n",
    "```\n",
    "\n",
    "By setting the variable \"is_student\" to either `True` or `False`, you can represent the boolean value indicating your student status in the code."
   ]
  }
 ],
 "metadata": {
  "kernelspec": {
   "display_name": "Python 3",
   "language": "python",
   "name": "python3"
  },
  "language_info": {
   "codemirror_mode": {
    "name": "ipython",
    "version": 3
   },
   "file_extension": ".py",
   "mimetype": "text/x-python",
   "name": "python",
   "nbconvert_exporter": "python",
   "pygments_lexer": "ipython3",
   "version": "3.11.2"
  },
  "orig_nbformat": 4
 },
 "nbformat": 4,
 "nbformat_minor": 2
}
