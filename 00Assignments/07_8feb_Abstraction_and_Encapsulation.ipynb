{
 "cells": [
  {
   "attachments": {},
   "cell_type": "markdown",
   "metadata": {},
   "source": [
    "### Q1. What is Abstraction in OOps? Explain with an example.\n",
    "Ans -> it provide the simplyifed and essential representation of complex systems it involues the  hiding the unnessery data "
   ]
  },
  {
   "cell_type": "code",
   "execution_count": 2,
   "metadata": {},
   "outputs": [
    {
     "name": "stdout",
     "output_type": "stream",
     "text": [
      "Drawing a circle\n",
      "Drawing a rectangle\n"
     ]
    }
   ],
   "source": [
    "from abc import ABC, abstractmethod\n",
    "\n",
    "class Shape(ABC):\n",
    "    @abstractmethod\n",
    "    def draw(self):\n",
    "        pass\n",
    "\n",
    "class Circle(Shape):\n",
    "    def draw(self):\n",
    "        print(\"Drawing a circle\")\n",
    "\n",
    "class Rectangle(Shape):\n",
    "    def draw(self):\n",
    "        print(\"Drawing a rectangle\")\n",
    "\n",
    "shapes = [Circle(), Rectangle()]\n",
    "\n",
    "for shape in shapes:\n",
    "    shape.draw()\n"
   ]
  },
  {
   "attachments": {},
   "cell_type": "markdown",
   "metadata": {},
   "source": [
    "### Q2. Differentiate between Abstraction and Encapsulation. Explain with an example.\n",
    "Abstraction and encapsulation are two fundamental concepts in object-oriented programming, but they serve different purposes.\n",
    "\n",
    "1. Abstraction:\n",
    "   Abstraction focuses on providing a simplified and essential representation of complex systems by hiding unnecessary details and exposing only relevant information. It allows you to create abstract classes or interfaces that define a blueprint for the derived classes to implement. Abstraction emphasizes \"what\" an object does rather than \"how\" it does it.\n",
    "\n",
    "   Example:\n",
    "   Let's consider the concept of a \"Vehicle\" in a transportation system. The Vehicle class can be an abstract class that defines common properties and behaviors of vehicles, such as \"start_engine()\", \"stop_engine()\", and \"move()\". These methods represent the essential actions that any vehicle can perform. The Vehicle class serves as an abstraction of a generic vehicle, without specifying the implementation details of individual vehicle types like cars, bicycles, or airplanes.\n",
    "\n",
    "2. Encapsulation:\n",
    "   Encapsulation refers to the bundling of data and methods into a single unit, known as a class. It hides the internal workings and state of an object from external access, and provides controlled access through methods or properties. Encapsulation helps in achieving data abstraction, data integrity, and modularity.\n",
    "\n",
    "   Example:\n",
    "   Consider a class called \"BankAccount\" that represents a customer's bank account. The BankAccount class can have private data members like \"account_number\" and \"balance\". It also includes methods like \"deposit()\" and \"withdraw()\" to modify the balance. These data members are encapsulated within the class, and external code cannot directly access or modify them. Instead, they can interact with the account using the provided methods, ensuring that the account's data is accessed and modified in a controlled manner.\n",
    "\n",
    "Difference between Abstraction and Encapsulation:\n",
    "- Abstraction is concerned with creating a simplified view of a complex system, focusing on what an object does, while encapsulation is concerned with bundling data and methods together, hiding the internal details of an object.\n",
    "- Abstraction involves defining abstract classes or interfaces that provide a blueprint for derived classes to implement, whereas encapsulation involves wrapping data and methods into a single unit (class) and controlling access to them.\n",
    "- Abstraction is about defining a higher level of abstraction and working with objects based on their essential behaviors, while encapsulation provides data protection and ensures that the internal state of an object remains consistent and controlled.\n",
    "\n",
    "In summary, abstraction provides a simplified view of a complex system, focusing on essential behaviors, while encapsulation bundles data and methods into a class, hiding internal details and providing controlled access to the object's state and behavior. Both concepts contribute to building well-structured and maintainable object-oriented programs."
   ]
  },
  {
   "attachments": {},
   "cell_type": "markdown",
   "metadata": {},
   "source": [
    "### Q3. What is abc module in python? Why is it used?"
   ]
  }
 ],
 "metadata": {
  "kernelspec": {
   "display_name": "Python 3",
   "language": "python",
   "name": "python3"
  },
  "language_info": {
   "codemirror_mode": {
    "name": "ipython",
    "version": 3
   },
   "file_extension": ".py",
   "mimetype": "text/x-python",
   "name": "python",
   "nbconvert_exporter": "python",
   "pygments_lexer": "ipython3",
   "version": "3.11.2"
  },
  "orig_nbformat": 4
 },
 "nbformat": 4,
 "nbformat_minor": 2
}
